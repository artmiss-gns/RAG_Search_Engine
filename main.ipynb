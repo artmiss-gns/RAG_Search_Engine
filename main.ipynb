{
 "cells": [
  {
   "cell_type": "code",
   "execution_count": 1,
   "metadata": {},
   "outputs": [],
   "source": [
    "from pathlib import Path\n",
    "import json\n",
    "\n",
    "from whoosh.index import create_in\n",
    "from whoosh.fields import Schema, TEXT, ID\n",
    "from whoosh.qparser import QueryParser"
   ]
  },
  {
   "cell_type": "code",
   "execution_count": 2,
   "metadata": {},
   "outputs": [],
   "source": [
    "INDEX_DIR = Path('./indexes')\n",
    "if not INDEX_DIR.exists():\n",
    "    INDEX_DIR.mkdir()"
   ]
  },
  {
   "cell_type": "code",
   "execution_count": 3,
   "metadata": {},
   "outputs": [],
   "source": [
    "DOC_DIR = Path('./data/documents.json')\n",
    "documents = json.loads(DOC_DIR.read_text())"
   ]
  },
  {
   "cell_type": "code",
   "execution_count": 4,
   "metadata": {},
   "outputs": [],
   "source": [
    "# Creating a Whoosh index to store the dataset \n",
    "schema = Schema(\n",
    "    doc_id = ID(stored=True, unique=True),\n",
    "    title=TEXT(stored=True),\n",
    "    content=TEXT,\n",
    ")\n",
    "index = create_in(INDEX_DIR, schema)"
   ]
  },
  {
   "cell_type": "code",
   "execution_count": 5,
   "metadata": {},
   "outputs": [],
   "source": [
    "#  Index the dataset\n",
    "writer = index.writer()\n",
    "for doc in documents:\n",
    "    writer.add_document(doc_id=doc['doc_id'], title=doc['title'], content=doc['content'])"
   ]
  },
  {
   "cell_type": "code",
   "execution_count": 6,
   "metadata": {},
   "outputs": [],
   "source": [
    "writer.commit()"
   ]
  },
  {
   "cell_type": "code",
   "execution_count": 7,
   "metadata": {},
   "outputs": [],
   "source": [
    "# Creating the parser \n",
    "parser = QueryParser(\"title\", index.schema)\n"
   ]
  },
  {
   "cell_type": "code",
   "execution_count": 8,
   "metadata": {},
   "outputs": [],
   "source": [
    "# Adding some Query plugins\n",
    "from whoosh.qparser import FuzzyTermPlugin, PrefixPlugin\n",
    "parser.add_plugin(FuzzyTermPlugin())\n",
    "parser.add_plugin(PrefixPlugin())"
   ]
  },
  {
   "cell_type": "code",
   "execution_count": 15,
   "metadata": {},
   "outputs": [],
   "source": [
    "# Creating the query\n",
    "query_str = \"Bi*\"\n",
    "query = parser.parse(query_str)"
   ]
  },
  {
   "cell_type": "code",
   "execution_count": 16,
   "metadata": {},
   "outputs": [
    {
     "name": "stdout",
     "output_type": "stream",
     "text": [
      "Bing Search Engine :\n",
      "A privacy-focused search engine that doesn't track users' online activities, providing a secure search experience.\n"
     ]
    }
   ],
   "source": [
    "# Search the index\n",
    "with index.searcher() as searcher:\n",
    "    results = searcher.search(query, terms=True)\n",
    "    for hit in results:\n",
    "        print(hit[\"title\"], \":\")\n",
    "        print(\n",
    "            documents[\n",
    "                int(hit['doc_id'])\n",
    "            ]['content']\n",
    "        )"
   ]
  }
 ],
 "metadata": {
  "kernelspec": {
   "display_name": "main",
   "language": "python",
   "name": "python3"
  },
  "language_info": {
   "codemirror_mode": {
    "name": "ipython",
    "version": 3
   },
   "file_extension": ".py",
   "mimetype": "text/x-python",
   "name": "python",
   "nbconvert_exporter": "python",
   "pygments_lexer": "ipython3",
   "version": "3.12.2"
  }
 },
 "nbformat": 4,
 "nbformat_minor": 2
}
